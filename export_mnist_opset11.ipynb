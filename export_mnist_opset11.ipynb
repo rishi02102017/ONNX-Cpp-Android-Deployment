{
  "cells": [
    {
      "cell_type": "markdown",
      "id": "727f29ad",
      "metadata": {
        "id": "727f29ad"
      },
      "source": [
        "#  Export MNIST CNN to ONNX (Opset 11)"
      ]
    },
    {
      "cell_type": "markdown",
      "id": "21f87d8e",
      "metadata": {
        "id": "21f87d8e"
      },
      "source": [
        "\n",
        "This notebook defines a simple CNN model in PyTorch for MNIST digit classification,\n",
        "exports it to ONNX format with `opset_version=11`, and saves it as `mnist_opset11.onnx`.\n"
      ]
    },
    {
      "cell_type": "code",
      "execution_count": null,
      "id": "eb9ee09c",
      "metadata": {
        "id": "eb9ee09c"
      },
      "outputs": [],
      "source": [
        "\n",
        "#  Install necessary libraries\n",
        "!pip install torch torchvision onnx -q\n"
      ]
    },
    {
      "cell_type": "code",
      "execution_count": null,
      "id": "8ced814b",
      "metadata": {
        "id": "8ced814b"
      },
      "outputs": [],
      "source": [
        "\n",
        "import torch\n",
        "import torch.nn as nn\n",
        "import onnx\n",
        "import numpy as np\n"
      ]
    },
    {
      "cell_type": "markdown",
      "id": "28f73e22",
      "metadata": {
        "id": "28f73e22"
      },
      "source": [
        "##  Define a Simple CNN Model"
      ]
    },
    {
      "cell_type": "code",
      "execution_count": null,
      "id": "ae6a730f",
      "metadata": {
        "id": "ae6a730f"
      },
      "outputs": [],
      "source": [
        "\n",
        "class MNISTModel(nn.Module):\n",
        "    def __init__(self):\n",
        "        super().__init__()\n",
        "        self.net = nn.Sequential(\n",
        "            nn.Conv2d(1, 16, 3, 1, 1),\n",
        "            nn.ReLU(),\n",
        "            nn.MaxPool2d(2),\n",
        "            nn.Conv2d(16, 32, 3, 1, 1),\n",
        "            nn.ReLU(),\n",
        "            nn.AdaptiveAvgPool2d((1, 1)),\n",
        "            nn.Flatten(),\n",
        "            nn.Linear(32, 10)\n",
        "        )\n",
        "\n",
        "    def forward(self, x):\n",
        "        return self.net(x)\n"
      ]
    },
    {
      "cell_type": "markdown",
      "id": "18a28b06",
      "metadata": {
        "id": "18a28b06"
      },
      "source": [
        "##  Instantiate and Prepare the Model"
      ]
    },
    {
      "cell_type": "code",
      "execution_count": null,
      "id": "5820f1d5",
      "metadata": {
        "id": "5820f1d5"
      },
      "outputs": [],
      "source": [
        "\n",
        "model = MNISTModel()\n",
        "model.eval()\n"
      ]
    },
    {
      "cell_type": "markdown",
      "id": "2f3d617e",
      "metadata": {
        "id": "2f3d617e"
      },
      "source": [
        "##  Export the Model to ONNX"
      ]
    },
    {
      "cell_type": "code",
      "execution_count": null,
      "id": "8d4f164d",
      "metadata": {
        "id": "8d4f164d"
      },
      "outputs": [],
      "source": [
        "\n",
        "dummy_input = torch.randn(1, 1, 28, 28)\n",
        "\n",
        "onnx_path = \"mnist_opset11.onnx\"\n",
        "torch.onnx.export(\n",
        "    model,\n",
        "    dummy_input,\n",
        "    onnx_path,\n",
        "    input_names=[\"input\"],\n",
        "    output_names=[\"output\"],\n",
        "    opset_version=11,\n",
        "    dynamic_axes={\"input\": {0: \"batch\"}, \"output\": {0: \"batch\"}}\n",
        ")\n",
        "print(\" Exported model to\", onnx_path)\n"
      ]
    },
    {
      "cell_type": "markdown",
      "id": "367bcbe6",
      "metadata": {
        "id": "367bcbe6"
      },
      "source": [
        "##  Validate the ONNX File"
      ]
    },
    {
      "cell_type": "code",
      "execution_count": null,
      "id": "77cdcac1",
      "metadata": {
        "id": "77cdcac1"
      },
      "outputs": [],
      "source": [
        "\n",
        "onnx_model = onnx.load(onnx_path)\n",
        "onnx.checker.check_model(onnx_model)\n",
        "print(\" ONNX model is valid!\")\n"
      ]
    }
  ],
  "metadata": {
    "colab": {
      "provenance": []
    }
  },
  "nbformat": 4,
  "nbformat_minor": 5
}